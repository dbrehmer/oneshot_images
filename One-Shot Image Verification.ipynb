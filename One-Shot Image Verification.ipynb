{
 "cells": [
  {
   "cell_type": "code",
   "execution_count": 15,
   "metadata": {
    "collapsed": false
   },
   "outputs": [
    {
     "name": "stdout",
     "output_type": "stream",
     "text": [
      "Populating the interactive namespace from numpy and matplotlib\n"
     ]
    }
   ],
   "source": [
    "import numpy as np\n",
    "import matplotlib.pyplot as plt\n",
    "%pylab inline\n",
    "from sklearn.datasets import fetch_olivetti_faces\n",
    "import tensorflow as tf\n",
    "from keras.models import Model\n",
    "from keras.layers import Input, Conv2D, ZeroPadding2D, MaxPooling2D, Flatten, Dense, Dropout\n",
    "from keras.optimizers import SGD,Adam\n",
    "from keras.losses import binary_crossentropy\n",
    "from PIL import Image"
   ]
  },
  {
   "cell_type": "code",
   "execution_count": 2,
   "metadata": {
    "collapsed": false
   },
   "outputs": [],
   "source": [
    "data = fetch_olivetti_faces()"
   ]
  },
  {
   "cell_type": "code",
   "execution_count": 3,
   "metadata": {
    "collapsed": false
   },
   "outputs": [
    {
     "data": {
      "image/png": "[encoded data removed]",
      "text/plain": [
       "<matplotlib.figure.Figure at 0x1243b0350>"
      ]
     },
     "metadata": {},
     "output_type": "display_data"
    }
   ],
   "source": [
    "face_number = 79\n",
    "plt.figure(figsize=(2.0, 2.26))\n",
    "plt.imshow(data.images[face_number],\n",
    "           cmap=plt.cm.gray)\n",
    "plt.show()"
   ]
  },
  {
   "cell_type": "code",
   "execution_count": null,
   "metadata": {
    "collapsed": true
   },
   "outputs": [],
   "source": [
    "import keras\n",
    "from keras.layers import Input, Dense, Conv2D, Dropout, MaxPooling2D, Flatten\n",
    "from keras.models import Model, Sequential\n",
    "from keras.initializers import RandomNormal"
   ]
  },
  {
   "cell_type": "code",
   "execution_count": null,
   "metadata": {
    "collapsed": true
   },
   "outputs": [],
   "source": [
    "# Shared layers. This portion of the model will compute latent variables\n",
    "# for each of the images to be compared in the next stage.\n",
    "encode_image = Sequential()\n",
    "encode_image.add(Conv2D(64, (9, 9), activation='relu', bias_initializer=RandomNormal(0.5, .01), input_shape=(64, 64)))\n",
    "encode_image.add(MaxPooling2D((2, 2))) # 28x28\n",
    "encode_image.add(Conv2D(128, (5, 5), activation='relu', bias_initializer=RandomNormal(0.0, .01)))\n",
    "encode_image.add(MaxPooling2D((2, 2))) # 12x12\n",
    "encode_image.add(Conv2D(128, (3, 3), activation='relu', bias_initializer=RandomNormal(0.0, .01)))\n",
    "encode_image.add(MaxPooling2D((2, 2)))\n",
    "encode_image.add(Conv2D(256, (4, 4), activation='relu', bias_initializer=RandomNormal(0.0, .01)))\n"
   ]
  },
  {
   "cell_type": "markdown",
   "metadata": {},
   "source": [
    "Since the Olivetti face database is not large enough to do well training the network and the architecture of this netwrk is really optimized for character recognition, it probably makes more sense to use a pretrained face recognition network for encoding the images. The result of this encoding will then be compared between the two and the final stage will be trained to complete the discrimination.\n",
    "\n",
    "The best choice for pretrained face recognition networks is probably the VGG-Face network, as described in this paper - http://www.robots.ox.ac.uk/~vgg/publications/2015/Parkhi15/parkhi15.pdf, which has already been converted to Keras here - https://gist.github.com/EncodeTS/6bbe8cb8bebad7a672f0d872561782d9."
   ]
  },
  {
   "cell_type": "markdown",
   "metadata": {},
   "source": [
    "One difficulty may be the differning format between the VGG face dataset and the Olivetti set. To accomodate the different format and grayscale the Olivetti images will be adjusted to match the expected input with a similar placement of the face in the image and the grayscale repeated on all three rbg planes.\n",
    "\n",
    "The VGG-Faces based siamese model will be fine tuned to the first 30 of the Olivetti faces and the remaining 10 will be used to test one-shot accuracy."
   ]
  },
  {
   "cell_type": "markdown",
   "metadata": {},
   "source": [
    "As I was trying to determine the way faces should be framed in the image I found this paper which describes adapting the VGG-Faces model for cross-over learning - http://cs231n.stanford.edu/reports/2016/pdfs/006_Report.pdf\n",
    "\n",
    "It seems that the Olivetti faces are probably reasonably well cropped, so we will only need to change them to RGB format for the input."
   ]
  },
  {
   "cell_type": "code",
   "execution_count": 4,
   "metadata": {
    "collapsed": false
   },
   "outputs": [],
   "source": [
    "def vgg_face(weights_path=None):\n",
    "    img = Input(shape=(224, 224, 3))\n",
    "\n",
    "    conv1_1 = Conv2D(64, (3, 3), activation='relu', padding='same', name='conv1_1', trainable=False)(img)\n",
    "    conv1_2 = Conv2D(64, (3, 3), activation='relu', padding='same', name='conv1_2', trainable=False)(conv1_1)\n",
    "    pool1 = MaxPooling2D((2, 2), strides=(2, 2), name='pool1', trainable=False)(conv1_2)\n",
    "\n",
    "    conv2_1 = Conv2D(128, (3, 3), activation='relu', padding='same', name='conv2_1', trainable=False)(pool1)\n",
    "    conv2_2 = Conv2D(128, (3, 3), activation='relu', padding='same', name='conv2_2', trainable=False)(conv2_1)\n",
    "    pool2 = MaxPooling2D((2, 2), strides=(2, 2), name='pool2', trainable=False)(conv2_2)\n",
    "\n",
    "    conv3_1 = Conv2D(256, (3, 3), activation='relu', padding='same', name='conv3_1', trainable=False)(pool2)\n",
    "    conv3_2 = Conv2D(256, (3, 3), activation='relu', padding='same', name='conv3_2', trainable=False)(conv3_1)\n",
    "    conv3_3 = Conv2D(256, (3, 3), activation='relu', padding='same', name='conv3_3', trainable=False)(conv3_2)\n",
    "    pool3 = MaxPooling2D((2, 2), strides=(2, 2), name='pool3', trainable=False)(conv3_3)\n",
    "\n",
    "    conv4_1 = Conv2D(512, (3, 3), activation='relu', padding='same', name='conv4_1', trainable=False)(pool3)\n",
    "    conv4_2 = Conv2D(512, (3, 3), activation='relu', padding='same', name='conv4_2', trainable=False)(conv4_1)\n",
    "    conv4_3 = Conv2D(512, (3, 3), activation='relu', padding='same', name='conv4_3', trainable=False)(conv4_2)\n",
    "    pool4 = MaxPooling2D((2, 2), strides=(2, 2), name='pool4', trainable=False)(conv4_3)\n",
    "\n",
    "    conv5_1 = Conv2D(512, (3, 3), activation='relu', padding='same', name='conv5_1', trainable=False)(pool4)\n",
    "    conv5_2 = Conv2D(512, (3, 3), activation='relu', padding='same', name='conv5_2', trainable=False)(conv5_1)\n",
    "    conv5_3 = Conv2D(512, (3, 3), activation='relu', padding='same', name='conv5_3', trainable=False)(conv5_2)\n",
    "    pool5 = MaxPooling2D((2, 2), strides=(2, 2), name='pool5', trainable=False)(conv5_3)\n",
    "\n",
    "    flat = Flatten()(pool5)\n",
    "    fc6 = Dense(4096, activation='relu', name='fc6', trainable=False)(flat)\n",
    "    fc7 = Dense(4096, activation='relu', name='fc7', trainable=False)(fc6)\n",
    "    out = Dense(2622, activation='softmax', name='fc8')(fc7)\n",
    "\n",
    "    model = Model(inputs=img, outputs=out)\n",
    "\n",
    "    if weights_path:\n",
    "        model.load_weights(weights_path)\n",
    "\n",
    "    return model\n",
    "\n",
    "# encode_image = vgg_face('rcmalli_vggface_tf_v2.h5')"
   ]
  },
  {
   "cell_type": "code",
   "execution_count": 5,
   "metadata": {
    "collapsed": true
   },
   "outputs": [
    {
     "name": "stdout",
     "output_type": "stream",
     "text": [
      "_________________________________________________________________\n",
      "Layer (type)                 Output Shape              Param #   \n",
      "=================================================================\n",
      "input_1 (InputLayer)         (None, 224, 224, 3)       0         \n",
      "_________________________________________________________________\n",
      "conv1_1 (Conv2D)             (None, 224, 224, 64)      1792      \n",
      "_________________________________________________________________\n",
      "conv1_2 (Conv2D)             (None, 224, 224, 64)      36928     \n",
      "_________________________________________________________________\n",
      "pool1 (MaxPooling2D)         (None, 112, 112, 64)      0         \n",
      "_________________________________________________________________\n",
      "conv2_1 (Conv2D)             (None, 112, 112, 128)     73856     \n",
      "_________________________________________________________________\n",
      "conv2_2 (Conv2D)             (None, 112, 112, 128)     147584    \n",
      "_________________________________________________________________\n",
      "pool2 (MaxPooling2D)         (None, 56, 56, 128)       0         \n",
      "_________________________________________________________________\n",
      "conv3_1 (Conv2D)             (None, 56, 56, 256)       295168    \n",
      "_________________________________________________________________\n",
      "conv3_2 (Conv2D)             (None, 56, 56, 256)       590080    \n",
      "_________________________________________________________________\n",
      "conv3_3 (Conv2D)             (None, 56, 56, 256)       590080    \n",
      "_________________________________________________________________\n",
      "pool3 (MaxPooling2D)         (None, 28, 28, 256)       0         \n",
      "_________________________________________________________________\n",
      "conv4_1 (Conv2D)             (None, 28, 28, 512)       1180160   \n",
      "_________________________________________________________________\n",
      "conv4_2 (Conv2D)             (None, 28, 28, 512)       2359808   \n",
      "_________________________________________________________________\n",
      "conv4_3 (Conv2D)             (None, 28, 28, 512)       2359808   \n",
      "_________________________________________________________________\n",
      "pool4 (MaxPooling2D)         (None, 14, 14, 512)       0         \n",
      "_________________________________________________________________\n",
      "conv5_1 (Conv2D)             (None, 14, 14, 512)       2359808   \n",
      "_________________________________________________________________\n",
      "conv5_2 (Conv2D)             (None, 14, 14, 512)       2359808   \n",
      "_________________________________________________________________\n",
      "conv5_3 (Conv2D)             (None, 14, 14, 512)       2359808   \n",
      "_________________________________________________________________\n",
      "pool5 (MaxPooling2D)         (None, 7, 7, 512)         0         \n",
      "_________________________________________________________________\n",
      "flatten_1 (Flatten)          (None, 25088)             0         \n",
      "_________________________________________________________________\n",
      "fc6 (Dense)                  (None, 4096)              102764544 \n",
      "_________________________________________________________________\n",
      "fc7 (Dense)                  (None, 4096)              16781312  \n",
      "_________________________________________________________________\n",
      "fc8 (Dense)                  (None, 2622)              10742334  \n",
      "=================================================================\n",
      "Total params: 145,002,878\n",
      "Trainable params: 10,742,334\n",
      "Non-trainable params: 134,260,544\n",
      "_________________________________________________________________\n"
     ]
    }
   ],
   "source": [
    "encode_image.summary()"
   ]
  },
  {
   "cell_type": "code",
   "execution_count": 5,
   "metadata": {
    "collapsed": true
   },
   "outputs": [],
   "source": [
    "def convert_image(img):\n",
    "    new_image = Image.fromarray(img).resize((224, 224))\n",
    "    img = np.asarray(new_image)\n",
    "    color_image = np.array([img, img, img])\n",
    "    return transpose(color_image, (1, 2, 0))"
   ]
  },
  {
   "cell_type": "code",
   "execution_count": 6,
   "metadata": {
    "collapsed": false
   },
   "outputs": [
    {
     "data": {
      "image/png": "[encoded data removed]",
      "text/plain": [
       "<matplotlib.figure.Figure at 0x1252d13d0>"
      ]
     },
     "metadata": {},
     "output_type": "display_data"
    }
   ],
   "source": [
    "plt.figure(figsize=(2.0, 2.26))\n",
    "plt.imshow(convert_image(data.images[79]))\n",
    "plt.show()"
   ]
  },
  {
   "cell_type": "markdown",
   "metadata": {},
   "source": [
    "I was looking for how to merge the results form the twins and found this blog post on how someone implemented the model in the paper - https://sorenbouma.github.io/blog/oneshot/ So, some of the following code is adapted from that. Unfortunately, I found his code fairly opaque, due to minimal comments or whitespace, but I did get some clues from it."
   ]
  },
  {
   "cell_type": "code",
   "execution_count": 11,
   "metadata": {
    "collapsed": true
   },
   "outputs": [],
   "source": [
    "def get_branch_model():\n",
    "    # Set up VGG-Face network and load weights.\n",
    "    encode_image = vgg_face('rcmalli_vggface_tf_v2.h5')\n",
    "\n",
    "    # Strip off the final layer used for prediction, leaving the image feature vector.\n",
    "    # Unfortunately, popping off layers still does not work correctly. After popping\n",
    "    # you still need to reassign the output of the model to the final layer or it will\n",
    "    # still be trying to look at the old final layer. See here - https://github.com/fchollet/keras/issues/2371\n",
    "    # encode_image.layers.pop()\n",
    "    encode_image.layers.pop()\n",
    "    encode_image.outputs = [encode_image.layers[-1].output]\n",
    "    encode_image.layers[-1].outbound_nodes = []\n",
    "\n",
    "    return encode_image"
   ]
  },
  {
   "cell_type": "code",
   "execution_count": 12,
   "metadata": {
    "collapsed": false
   },
   "outputs": [],
   "source": [
    "encode = get_branch_model()"
   ]
  },
  {
   "cell_type": "code",
   "execution_count": 13,
   "metadata": {
    "collapsed": false
   },
   "outputs": [
    {
     "name": "stdout",
     "output_type": "stream",
     "text": [
      "_________________________________________________________________\n",
      "Layer (type)                 Output Shape              Param #   \n",
      "=================================================================\n",
      "input_2 (InputLayer)         (None, 224, 224, 3)       0         \n",
      "_________________________________________________________________\n",
      "conv1_1 (Conv2D)             (None, 224, 224, 64)      1792      \n",
      "_________________________________________________________________\n",
      "conv1_2 (Conv2D)             (None, 224, 224, 64)      36928     \n",
      "_________________________________________________________________\n",
      "pool1 (MaxPooling2D)         (None, 112, 112, 64)      0         \n",
      "_________________________________________________________________\n",
      "conv2_1 (Conv2D)             (None, 112, 112, 128)     73856     \n",
      "_________________________________________________________________\n",
      "conv2_2 (Conv2D)             (None, 112, 112, 128)     147584    \n",
      "_________________________________________________________________\n",
      "pool2 (MaxPooling2D)         (None, 56, 56, 128)       0         \n",
      "_________________________________________________________________\n",
      "conv3_1 (Conv2D)             (None, 56, 56, 256)       295168    \n",
      "_________________________________________________________________\n",
      "conv3_2 (Conv2D)             (None, 56, 56, 256)       590080    \n",
      "_________________________________________________________________\n",
      "conv3_3 (Conv2D)             (None, 56, 56, 256)       590080    \n",
      "_________________________________________________________________\n",
      "pool3 (MaxPooling2D)         (None, 28, 28, 256)       0         \n",
      "_________________________________________________________________\n",
      "conv4_1 (Conv2D)             (None, 28, 28, 512)       1180160   \n",
      "_________________________________________________________________\n",
      "conv4_2 (Conv2D)             (None, 28, 28, 512)       2359808   \n",
      "_________________________________________________________________\n",
      "conv4_3 (Conv2D)             (None, 28, 28, 512)       2359808   \n",
      "_________________________________________________________________\n",
      "pool4 (MaxPooling2D)         (None, 14, 14, 512)       0         \n",
      "_________________________________________________________________\n",
      "conv5_1 (Conv2D)             (None, 14, 14, 512)       2359808   \n",
      "_________________________________________________________________\n",
      "conv5_2 (Conv2D)             (None, 14, 14, 512)       2359808   \n",
      "_________________________________________________________________\n",
      "conv5_3 (Conv2D)             (None, 14, 14, 512)       2359808   \n",
      "_________________________________________________________________\n",
      "pool5 (MaxPooling2D)         (None, 7, 7, 512)         0         \n",
      "_________________________________________________________________\n",
      "flatten_2 (Flatten)          (None, 25088)             0         \n",
      "_________________________________________________________________\n",
      "fc6 (Dense)                  (None, 4096)              102764544 \n",
      "_________________________________________________________________\n",
      "fc7 (Dense)                  (None, 4096)              16781312  \n",
      "=================================================================\n",
      "Total params: 134,260,544\n",
      "Trainable params: 0\n",
      "Non-trainable params: 134,260,544\n",
      "_________________________________________________________________\n"
     ]
    }
   ],
   "source": [
    "encode.summary()"
   ]
  },
  {
   "cell_type": "code",
   "execution_count": 16,
   "metadata": {
    "collapsed": false
   },
   "outputs": [],
   "source": [
    "optimizer = Adam(0.00006)\n",
    "encode.compile(loss=\"binary_crossentropy\", optimizer=optimizer)"
   ]
  },
  {
   "cell_type": "code",
   "execution_count": 17,
   "metadata": {
    "collapsed": false
   },
   "outputs": [],
   "source": [
    "images = np.zeros((400, 224, 224, 3))\n",
    "for i in range(400):\n",
    "    images[i, :, :, :] = convert_image(data.images[i])"
   ]
  },
  {
   "cell_type": "code",
   "execution_count": 19,
   "metadata": {
    "collapsed": false
   },
   "outputs": [],
   "source": [
    "vectors = encode.predict(images[:16], batch_size = 16)\n",
    "for i in range(24):\n",
    "    vectors = np.concatenate((vectors, encode.predict(images[16*(i+1):16*(i+2)], batch_size = 16)))"
   ]
  },
  {
   "cell_type": "code",
   "execution_count": null,
   "metadata": {
    "collapsed": true
   },
   "outputs": [],
   "source": []
  },
  {
   "cell_type": "code",
   "execution_count": 21,
   "metadata": {
    "collapsed": false
   },
   "outputs": [
    {
     "data": {
      "text/plain": [
       "(400, 4096)"
      ]
     },
     "execution_count": 21,
     "metadata": {},
     "output_type": "execute_result"
    }
   ],
   "source": [
    "vectors.shape"
   ]
  },
  {
   "cell_type": "code",
   "execution_count": 27,
   "metadata": {
    "collapsed": false
   },
   "outputs": [
    {
     "name": "stdout",
     "output_type": "stream",
     "text": [
      "[[ 0.          0.02642416  0.01712929  0.          0.          0.        ]\n",
      " [ 0.          0.          0.0100847   0.          0.          0.        ]\n",
      " [ 0.          0.0043798   0.          0.          0.          0.        ]\n",
      " [ 0.          0.00726469  0.          0.          0.          0.        ]\n",
      " [ 0.          0.          0.          0.          0.          0.        ]\n",
      " [ 0.          0.01590716  0.          0.          0.          0.        ]\n",
      " [ 0.          0.03807902  0.          0.          0.          0.        ]\n",
      " [ 0.          0.01726065  0.          0.          0.          0.        ]\n",
      " [ 0.          0.05755867  0.          0.          0.          0.        ]\n",
      " [ 0.          0.0638838   0.          0.          0.          0.        ]\n",
      " [ 0.          0.          0.          0.          0.          0.        ]\n",
      " [ 0.          0.          0.          0.          0.          0.        ]\n",
      " [ 0.          0.          0.          0.          0.          0.        ]\n",
      " [ 0.          0.          0.          0.          0.          0.        ]\n",
      " [ 0.          0.          0.00328201  0.          0.          0.        ]\n",
      " [ 0.          0.00861659  0.          0.          0.          0.        ]\n",
      " [ 0.          0.0076882   0.          0.          0.          0.        ]\n",
      " [ 0.          0.          0.          0.          0.          0.        ]\n",
      " [ 0.          0.          0.          0.          0.          0.        ]\n",
      " [ 0.          0.          0.          0.          0.          0.        ]]\n"
     ]
    }
   ],
   "source": [
    "print(vectors[20:40, 30:36])"
   ]
  },
  {
   "cell_type": "markdown",
   "metadata": {},
   "source": [
    "### If we use 75% of the Olivetti Faces data set for training, the number of positive and negative pairs we can get is 9X5X30 = 1350 and 150x290 = 43,500.\n",
    "We will draw evenly and randomly from those sets for training batches and run until we are not seeing much additional improvement.\n",
    "For validation we will have 450 positive cases and 4500 negative cases. To do this more rigorously we would optimize the model to perform well on half of these data, using 5 of the remaining individuals, and validate that on the final 5. This gives us 10!/(5!x5!) = 252 ways to do the test and validate groups. "
   ]
  },
  {
   "cell_type": "code",
   "execution_count": 29,
   "metadata": {
    "collapsed": false
   },
   "outputs": [],
   "source": [
    "# Randomly choose 75% of the indices for the Olivetti subjects for the training set.\n",
    "train = np.random.choice(range(40), 30, replace=False)\n",
    "# Take the remaining 25% for the test set.\n",
    "test = np.array([idx for idx in range(40) if idx not in train])"
   ]
  },
  {
   "cell_type": "code",
   "execution_count": 44,
   "metadata": {
    "collapsed": false
   },
   "outputs": [],
   "source": [
    "from itertools import combinations\n",
    "# Pairs of indices for images of the same subject.\n",
    "test_pairs_pos = np.concatenate([np.array(list(combinations(range(10), 2)))+idx*10 for idx in test])"
   ]
  },
  {
   "cell_type": "code",
   "execution_count": 45,
   "metadata": {
    "collapsed": true
   },
   "outputs": [],
   "source": [
    "train_pairs_pos = np.concatenate([np.array(list(combinations(range(10), 2)))+idx*10 for idx in train])"
   ]
  },
  {
   "cell_type": "code",
   "execution_count": 54,
   "metadata": {
    "collapsed": true
   },
   "outputs": [],
   "source": [
    "def random_neg_pair(subject_indices):\n",
    "    \"\"\"Takes an array of subject indices and returns a pair of indices to non-matching image vectors.\"\"\"\n",
    "    subject = random.choice(subject_indices)\n",
    "    ind1 = 10*subject + random.choice(range(10))\n",
    "    others = subject_indices.tolist()\n",
    "    others.remove(subject)\n",
    "    ind2 = 10*random.choice(others) + random.choice(range(10))\n",
    "    return [ind1, ind2]\n",
    "\n",
    "def draw_random_neg_pairs(subject_indices, number):\n",
    "    \"\"\"Returns a set of number unique negative pairs\"\"\"\n",
    "    pairs = []\n",
    "    while (len(pairs) < number):\n",
    "        pair = set(random_neg_pair(subject_indices))\n",
    "        if pair not in pairs:\n",
    "            pairs.append(pair)\n",
    "    return np.array([list(s) for s in pairs])"
   ]
  },
  {
   "cell_type": "code",
   "execution_count": 55,
   "metadata": {
    "collapsed": false
   },
   "outputs": [],
   "source": [
    "train_pairs_neg = draw_random_neg_pairs(train, 1350)"
   ]
  },
  {
   "cell_type": "code",
   "execution_count": 58,
   "metadata": {
    "collapsed": false
   },
   "outputs": [
    {
     "data": {
      "text/plain": [
       "array([[  1,  69],\n",
       "       [ 10,  35],\n",
       "       [218, 190],\n",
       "       [218,  87],\n",
       "       [329, 203]])"
      ]
     },
     "execution_count": 58,
     "metadata": {},
     "output_type": "execute_result"
    }
   ],
   "source": [
    "train_pairs_neg[5:10]"
   ]
  },
  {
   "cell_type": "code",
   "execution_count": 8,
   "metadata": {
    "collapsed": false
   },
   "outputs": [],
   "source": [
    "from keras.layers import Input, Lambda, Dense\n",
    "from keras.models import Model\n",
    "from keras.initializers import TruncatedNormal\n",
    "from keras.optimizers import SGD,Adam\n",
    "from keras.losses import binary_crossentropy\n",
    "\n",
    "input_shape = (224, 224, 3)\n",
    "left_input = Input(input_shape)\n",
    "right_input = Input(input_shape)\n",
    "\n",
    "# Set up VGG-Face network and load weights.\n",
    "encode_image = vgg_face('rcmalli_vggface_tf_v2.h5')\n",
    "\n",
    "# Strip off the final two layers used for prediction, leaving the image feature vector.\n",
    "# Unfortunately, popping off layers still does not work correctly. After popping\n",
    "# you still need to reassign the output of the model to the final layer or it\n",
    "# still be trying to look at the old final layer. See here - https://github.com/fchollet/keras/issues/2371\n",
    "encode_image.layers.pop()\n",
    "encode_image.outputs = [encode_image.layers[-1].output]\n",
    "encode_image.layers[-1].outbound_nodes = []\n",
    "\n",
    "# Encode each of the two inputs into a vector with the convnet.\n",
    "branch_l = encode_image(left_input)\n",
    "branch_r = encode_image(right_input)\n",
    "\n",
    "# Merge two encoded inputs with the L1 distance between them.\n",
    "both = Lambda(lambda x: np.abs(x[0]-x[1]), output_shape=lambda x: x[0].shape)([branch_l, branch_r])\n",
    "# Make the final prediction layer as described in the paper. This is the only layer we will train to begin with.\n",
    "prediction = Dense(1, activation='sigmoid', bias_initializer=TruncatedNormal(mean=0.5, stddev=0.01))(both)\n",
    "siamese_net = Model([left_input, right_input], prediction)"
   ]
  },
  {
   "cell_type": "code",
   "execution_count": null,
   "metadata": {
    "collapsed": true
   },
   "outputs": [],
   "source": [
    "discrim_input = Input((2, 4096))\n",
    "# Merge two encoded inputs with the L1 distance between them.\n",
    "both = Lambda(lambda x: np.abs(x[0]-x[1]), output_shape=lambda x: x[0].shape)(discrim_input)\n",
    "# Make the final prediction layer as described in the paper. This is the only layer we will train to begin with.\n",
    "# We can unfreeze additional fc layers and train them if it seems to be needed.\n",
    "prediction = Dense(1, activation='sigmoid', bias_initializer=TruncatedNormal(mean=0.5, stddev=0.01))(both)\n",
    "discriminator = Model(inputs=discrim_input, outputs=prediction)"
   ]
  },
  {
   "cell_type": "code",
   "execution_count": 9,
   "metadata": {
    "collapsed": false
   },
   "outputs": [
    {
     "data": {
      "text/plain": [
       "134264641"
      ]
     },
     "execution_count": 9,
     "metadata": {},
     "output_type": "execute_result"
    }
   ],
   "source": [
    "optimizer = Adam(0.00006)\n",
    "#//TODO: get layerwise learning rates and momentum annealing scheme described in paper working\n",
    "siamese_net.compile(loss=\"binary_crossentropy\", optimizer=optimizer)\n",
    "\n",
    "siamese_net.count_params()"
   ]
  },
  {
   "cell_type": "code",
   "execution_count": 10,
   "metadata": {
    "collapsed": false
   },
   "outputs": [
    {
     "name": "stdout",
     "output_type": "stream",
     "text": [
      "____________________________________________________________________________________________________\n",
      "Layer (type)                     Output Shape          Param #     Connected to                     \n",
      "====================================================================================================\n",
      "input_10 (InputLayer)            (None, 224, 224, 3)   0                                            \n",
      "____________________________________________________________________________________________________\n",
      "input_11 (InputLayer)            (None, 224, 224, 3)   0                                            \n",
      "____________________________________________________________________________________________________\n",
      "model_1 (Model)                  multiple              134260544   input_10[0][0]                   \n",
      "                                                                   input_11[0][0]                   \n",
      "____________________________________________________________________________________________________\n",
      "lambda_4 (Lambda)                (None, 4096)          0           model_1[4][0]                    \n",
      "                                                                   model_1[5][0]                    \n",
      "____________________________________________________________________________________________________\n",
      "dense_3 (Dense)                  (None, 1)             4097        lambda_4[0][0]                   \n",
      "====================================================================================================\n",
      "Total params: 134,264,641\n",
      "Trainable params: 4,097\n",
      "Non-trainable params: 134,260,544\n",
      "____________________________________________________________________________________________________\n"
     ]
    }
   ],
   "source": [
    "siamese_net.summary()"
   ]
  },
  {
   "cell_type": "code",
   "execution_count": null,
   "metadata": {
    "collapsed": true
   },
   "outputs": [],
   "source": [
    "WEIGHTS_PATH = 'https://github.com/rcmalli/keras-vggface/releases/download/v2.0/rcmalli_vggface_tf_v2.h5'\n",
    "\n",
    "class Siamese_Face_Tester(object):\n",
    "    \"\"\"Loads Olivetti Face data and generates sets for training and testing one-shot learning on Siamese Network.\"\"\"\n",
    "    def __init__(self):\n",
    "        self.train, self.test = self.new_train_test_split()\n",
    "        # Pairs of indices for images of the same subject.\n",
    "        self.test_pairs_pos, self.train_pairs_pos = get_pos_pairs()\n",
    "        # Train and test sets for training the discriminator.\n",
    "        self.train_pairs = []\n",
    "        self.train_target = []\n",
    "        self.test_pairs = []\n",
    "        self.test_target = []\n",
    "        self.refresh_train_sets()\n",
    "        # Fetch and convert Olivetti Face data.\n",
    "        self.data = fetch_olivetti_faces()\n",
    "        self.images = np.zeros((400, 224, 224, 3))\n",
    "        for i in range(400):\n",
    "            self.images[i, :, :, :] = self.convert_image(self.data.images[i])\n",
    "        self.image_vectors = None\n",
    "        self.branch_encoder = None\n",
    "        self.weights_path = None\n",
    "        self.discriminator = self.get_discriminator()\n",
    "\n",
    "\n",
    "    def convert_image(self, img):\n",
    "        \"\"\"Convert gray scale image to color in [h, w, channels] format.\"\"\"\n",
    "        new_image = Image.fromarray(img).resize((224, 224))\n",
    "        img = np.asarray(new_image)\n",
    "        color_image = np.array([img, img, img])\n",
    "        return transpose(color_image, (1, 2, 0))\n",
    "\n",
    "\n",
    "    def new_train_test_split(self):\n",
    "        \"\"\"Olivetti Faces includes 40 sets of 10 images. This returns a 75/25 random split of 40 indices.\"\"\"\n",
    "        # Randomly choose 75% of the indices for the Olivetti subjects for the training set.\n",
    "        train = np.random.choice(range(40), 30, replace=False)\n",
    "        # Take the remaining 25% for the test set.\n",
    "        test = np.array([idx for idx in range(40) if idx not in train])\n",
    "        return train, test\n",
    "\n",
    "\n",
    "    def get_pos_pairs(self):\n",
    "        \"\"\"Returns all possible positive pairs for the current train-test split.\"\"\"\n",
    "        test_pairs_pos = np.concatenate([np.array(list(combinations(range(10), 2)))+idx*10 for idx in self.test])\n",
    "        train_pairs_pos = np.concatenate([np.array(list(combinations(range(10), 2)))+idx*10 for idx in self.train])\n",
    "        return test_pairs_pos, train_pairs_pos\n",
    "\n",
    "\n",
    "    def refresh_train_sets(self, batch_size=32):\n",
    "        \"\"\"Refreshes the train and test sets of index pairs and targets with a new random draw of negative pairs.\"\"\"\n",
    "        # Make the train set an integer multiple of the batch size (not sure if this matters...)\n",
    "        drop = len(self.train_pairs_pos)%batch_size\n",
    "        train_pairs = np.concatenate((self.train_pairs_pos[:-drop], draw_random_neg_pairs(self.train, len(self.train_pairs_pos)-drop)))\n",
    "        train_targets = np.concatenate((np.ones(len(train_pairs)/2), np.zeros(len(train_pairs)/2)))\n",
    "        train_labeled = np.array([train_pairs, train_targets]).T\n",
    "        np.random.shuffle(train_labeled)\n",
    "        [self.train_pairs, self.train_target] = train_labeled.T\n",
    "        # Repeat same procedure for the test set. Clearly could be refactored in some way, but no time now.\n",
    "        drop = len(self.test_pairs_pos)%batch_size\n",
    "        test_pairs = np.concatenate((self.test_pairs_pos[:-drop], draw_random_neg_pairs(self.test, len(self.test_pairs_pos)-drop)))\n",
    "        test_targets = np.concatenate((np.ones(len(test_pairs)/2), np.zeros(len(test_pairs)/2)))\n",
    "        test_labeled = np.array([test_pairs, test_targets]).T\n",
    "        np.random.shuffle(test_labeled)\n",
    "        [self.test_pairs, self.test_target] = test_labeled.T\n",
    "        \n",
    "        \"\"\"The test set accuracy during training is equivalent to a one-out-of-two one-shot learning task averaged over the all test data.\"\"\"\n",
    "        \n",
    "\n",
    "    def random_neg_pair(self, subject_indices):\n",
    "        \"\"\"Takes an array of subject indices and returns a pair of indices to non-matching image vectors.\"\"\"\n",
    "        subject = random.choice(subject_indices)\n",
    "        ind1 = 10*subject + random.choice(range(10))\n",
    "        others = subject_indices.tolist()\n",
    "        others.remove(subject)\n",
    "        ind2 = 10*random.choice(others) + random.choice(range(10))\n",
    "        return [ind1, ind2]\n",
    "\n",
    "\n",
    "    def draw_random_neg_pairs(self, subject_indices, number):\n",
    "        \"\"\"Returns a set of number unique negative pairs\"\"\"\n",
    "        pairs = []\n",
    "        while (len(pairs) < number):\n",
    "            pair = set(random_neg_pair(subject_indices))\n",
    "            if pair not in pairs:\n",
    "                pairs.append(pair)\n",
    "        return np.array([list(s) for s in pairs])\n",
    "\n",
    "\n",
    "    def vgg_face(self, weights_path=None):\n",
    "        img = Input(shape=(224, 224, 3))\n",
    "\n",
    "        conv1_1 = Conv2D(64, (3, 3), activation='relu', padding='same', name='conv1_1', trainable=False)(img)\n",
    "        conv1_2 = Conv2D(64, (3, 3), activation='relu', padding='same', name='conv1_2', trainable=False)(conv1_1)\n",
    "        pool1 = MaxPooling2D((2, 2), strides=(2, 2), name='pool1', trainable=False)(conv1_2)\n",
    "\n",
    "        conv2_1 = Conv2D(128, (3, 3), activation='relu', padding='same', name='conv2_1', trainable=False)(pool1)\n",
    "        conv2_2 = Conv2D(128, (3, 3), activation='relu', padding='same', name='conv2_2', trainable=False)(conv2_1)\n",
    "        pool2 = MaxPooling2D((2, 2), strides=(2, 2), name='pool2', trainable=False)(conv2_2)\n",
    "\n",
    "        conv3_1 = Conv2D(256, (3, 3), activation='relu', padding='same', name='conv3_1', trainable=False)(pool2)\n",
    "        conv3_2 = Conv2D(256, (3, 3), activation='relu', padding='same', name='conv3_2', trainable=False)(conv3_1)\n",
    "        conv3_3 = Conv2D(256, (3, 3), activation='relu', padding='same', name='conv3_3', trainable=False)(conv3_2)\n",
    "        pool3 = MaxPooling2D((2, 2), strides=(2, 2), name='pool3', trainable=False)(conv3_3)\n",
    "\n",
    "        conv4_1 = Conv2D(512, (3, 3), activation='relu', padding='same', name='conv4_1', trainable=False)(pool3)\n",
    "        conv4_2 = Conv2D(512, (3, 3), activation='relu', padding='same', name='conv4_2', trainable=False)(conv4_1)\n",
    "        conv4_3 = Conv2D(512, (3, 3), activation='relu', padding='same', name='conv4_3', trainable=False)(conv4_2)\n",
    "        pool4 = MaxPooling2D((2, 2), strides=(2, 2), name='pool4', trainable=False)(conv4_3)\n",
    "\n",
    "        conv5_1 = Conv2D(512, (3, 3), activation='relu', padding='same', name='conv5_1', trainable=False)(pool4)\n",
    "        conv5_2 = Conv2D(512, (3, 3), activation='relu', padding='same', name='conv5_2', trainable=False)(conv5_1)\n",
    "        conv5_3 = Conv2D(512, (3, 3), activation='relu', padding='same', name='conv5_3', trainable=False)(conv5_2)\n",
    "        pool5 = MaxPooling2D((2, 2), strides=(2, 2), name='pool5', trainable=False)(conv5_3)\n",
    "\n",
    "        flat = Flatten()(pool5)\n",
    "        fc6 = Dense(4096, activation='relu', name='fc6', trainable=False)(flat)\n",
    "        fc7 = Dense(4096, activation='relu', name='fc7', trainable=False)(fc6)\n",
    "        out = Dense(2622, activation='softmax', name='fc8')(fc7)\n",
    "\n",
    "        model = Model(inputs=img, outputs=out)\n",
    "\n",
    "        if weights_path:\n",
    "            model.load_weights(weights_path)\n",
    "\n",
    "        return model\n",
    "\n",
    "\n",
    "    def get_branch_model(self):\n",
    "        \"\"\"Returns a model that can be used to encode images into vectors using the trained VGG-Face model.\"\"\"\n",
    "        if self.branch_encoder == None:\n",
    "            # Set up VGGFace network and load weights.\n",
    "            if self.weights_path == None:\n",
    "                self.get_VGG_weights()\n",
    "            encode_image = vgg_face(self.weights_path)\n",
    "\n",
    "            # Strip off the final layer used for prediction, leaving the image feature vector.\n",
    "            # Unfortunately, popping off layers still does not work correctly. After popping\n",
    "            # you still need to reassign the output of the model to the final layer or it will\n",
    "            # still be trying to look at the old final layer. See here - https://github.com/fchollet/keras/issues/2371\n",
    "            encode_image.layers.pop()\n",
    "            encode_image.outputs = [encode_image.layers[-1].output]\n",
    "            encode_image.layers[-1].outbound_nodes = []\n",
    "            self.branch_encoder = encode_image\n",
    "        return self.branch_encoder\n",
    "    \n",
    "    \n",
    "    def encode_image_vectors(self):\n",
    "        \"\"\"Uses the image encoding branch to turn the Olivetti images into vectors.\"\"\"\n",
    "        encoder = self.get_branch_model()\n",
    "        vectors = encoder.predict(self.images[:16], batch_size = 16)\n",
    "        for i in range(24):\n",
    "            vectors = np.concatenate((vectors, encoder.predict(self.images[16*(i+1):16*(i+2)], batch_size = 16)))\n",
    "        return vectors\n",
    "\n",
    "\n",
    "    def get_image_vectors(self):\n",
    "        \"\"\"Returns the image vectors, computing them if necessary.\"\"\"\n",
    "        if self.image_vectors == None:\n",
    "            self.image_vectors = self.encode_image_vectors()\n",
    "        return self.image_vectors\n",
    "    \n",
    "    \n",
    "    def get_VGG_weights(self):\n",
    "        \"\"\"Download VGGFace weights if they are not present.\"\"\"\n",
    "        self.weights_path = get_file('rcmalli_vggface_tf_v2.h5',\n",
    "                                     WEIGHTS_PATH,\n",
    "                                     cache_subdir='models')\n",
    "        \n",
    "        \n",
    "    def get_discriminator(self):\n",
    "        \"\"\"The discriminator is the part of the siamese network that we will train to tell the difference between encoded image vectors.\"\"\"\n",
    "        discrim_input = Input((2, 4096))\n",
    "        # Merge two encoded inputs with the L1 distance between them.\n",
    "        both = Lambda(lambda x: np.abs(x[0]-x[1]), output_shape=lambda x: x[0].shape)(discrim_input)\n",
    "        # Make the final prediction layer as described in the paper. This is the only layer we will train to begin with.\n",
    "        # We can unfreeze additional fc layers and train them if it seems to be needed.\n",
    "        prediction = Dense(1, activation='sigmoid', bias_initializer=TruncatedNormal(mean=0.5, stddev=0.01))(both)\n",
    "        discriminator = Model(inputs=discrim_input, outputs=prediction)\n",
    "        return discriminator"
   ]
  },
  {
   "cell_type": "code",
   "execution_count": null,
   "metadata": {
    "collapsed": true
   },
   "outputs": [],
   "source": [
    "tester = Siamese_Face_Tester()\n",
    "vectors = tester.get_image_vectors()\n",
    "tester.discriminator.compile(loss=\"binary_crossentropy\", optimizer=Adam)\n",
    "X_train = [[vectors[pair[0]], vectors[pair[1]]] for pair in tester.train_pairs]\n",
    "X_test = [[vectors[pair[0]], vectors[pair[1]]] for pair in tester.test_pairs]\n",
    "tester.fit(x=X_train, y=tester.train_target, validation_data=(X_test, tester.test_target))"
   ]
  },
  {
   "cell_type": "code",
   "execution_count": null,
   "metadata": {
    "collapsed": true
   },
   "outputs": [],
   "source": [
    "class Siamese_Loader:\n",
    "    \"\"\"For loading batches and testing tasks to a siamese net\"\"\"\n",
    "    def __init__(self, Xtrain, Xval):\n",
    "        self.Xval = Xval\n",
    "        self.Xtrain = Xtrain\n",
    "        self.n_classes, self.n_examples, self.w, self.h = Xtrain.shape\n",
    "        self.n_val, self.n_ex_val, _, _ = Xval.shape\n",
    "\n",
    "    def get_batch(self,n):\n",
    "        \"\"\"Create batch of n pairs, half same class, half different class\"\"\"\n",
    "        categories = rng.choice(self.n_classes, size=(n,), replace=False)\n",
    "        pairs=[np.zeros((n, self.h, self.w, 1)) for i in range(2)]\n",
    "        targets=np.zeros((n, ))\n",
    "        targets[n//2:] = 1\n",
    "        for i in range(n):\n",
    "            category = categories[i]\n",
    "            idx_1 = rng.randint(0, self.n_examples)\n",
    "            pairs[0][i, :, :, :] = self.Xtrain[category, idx_1].reshape(self.w, self.h,1)\n",
    "            idx_2 = rng.randint(0, self.n_examples)\n",
    "            #pick images of same class for 1st half, different for 2nd\n",
    "            category_2 = category if i >= n//2 else (category + rng.randint(1, self.n_classes)) % self.n_classes\n",
    "            pairs[1][i, :, :, :] = self.Xtrain[category_2, idx_2].reshape(self.w, self.h,1)\n",
    "        return pairs, targets\n",
    "\n",
    "    def make_oneshot_task(self,N):\n",
    "        \"\"\"Create pairs of test image, support set for testing N way one-shot learning. \"\"\"\n",
    "        categories = rng.choice(self.n_val,size=(N,),replace=False)\n",
    "        indices = rng.randint(0,self.n_ex_val,size=(N,))\n",
    "        true_category = categories[0]\n",
    "        ex1, ex2 = rng.choice(self.n_examples,replace=False,size=(2,))\n",
    "        test_image = np.asarray([self.Xval[true_category,ex1,:,:]]*N).reshape(N,self.w,self.h,1)\n",
    "        support_set = self.Xval[categories,indices,:,:]\n",
    "        support_set[0,:,:] = self.Xval[true_category,ex2]\n",
    "        support_set = support_set.reshape(N,self.w,self.h,1)\n",
    "        pairs = [test_image,support_set]\n",
    "        targets = np.zeros((N,))\n",
    "        targets[0] = 1\n",
    "        return pairs, targets\n",
    "\n",
    "    def test_oneshot(self,model,N,k,verbose=0):\n",
    "        \"\"\"Test average N way oneshot learning accuracy of a siamese neural net over k one-shot tasks\"\"\"\n",
    "        pass\n",
    "        n_correct = 0\n",
    "        if verbose:\n",
    "            print(\"Evaluating model on {} unique {} way one-shot learning tasks ...\".format(k,N))\n",
    "        for i in range(k):\n",
    "            inputs, targets = self.make_oneshot_task(N)\n",
    "            probs = model.predict(inputs)\n",
    "            if np.argmax(probs) == 0:\n",
    "                n_correct+=1\n",
    "        percent_correct = (100.0*n_correct / k)\n",
    "        if verbose:\n",
    "            print(\"Got an average of {}% {} way one-shot learning accuracy\".format(percent_correct,N))\n",
    "        return percent_correct"
   ]
  },
  {
   "cell_type": "code",
   "execution_count": null,
   "metadata": {
    "collapsed": true
   },
   "outputs": [],
   "source": [
    "evaluate_every = 7000\n",
    "loss_every=300\n",
    "batch_size = 32\n",
    "N_way = 20\n",
    "n_val = 550\n",
    "siamese_net.load_weights(\"PATH\")\n",
    "best = 76.0\n",
    "for i in range(900000):\n",
    "    (inputs, targets)=loader.get_batch(batch_size)\n",
    "    loss=siamese_net.train_on_batch(inputs, targets)\n",
    "    if i % evaluate_every == 0:\n",
    "        val_acc = loader.test_oneshot(siamese_net, N_way, n_val, verbose=True)\n",
    "        if val_acc >= best:\n",
    "            print(\"saving\")\n",
    "            siamese_net.save('PATH')\n",
    "            best=val_acc\n",
    "\n",
    "    if i % loss_every == 0:\n",
    "        print(\"iteration {}, training loss: {:.2f},\".format(i,loss))"
   ]
  },
  {
   "cell_type": "markdown",
   "metadata": {
    "collapsed": true
   },
   "source": [
    "Seems that for training the final layer it may be faster to precompute the output of the VGG-Face branches for all the images and train the final layer on its own. I will see if I can figure out how to do that once I have things set up.\n",
    "\n",
    "To multiply the amount of data we have we migth also just do some transformations on the image vectors for training the final layer rather than on the original images. Perhaps a dropout of 10% of the components. If we were to start from the original images we could add noise or perform affine distortions that approximate changes in the angle of the photo or lighting without creating abnormal facial shapes."
   ]
  },
  {
   "cell_type": "markdown",
   "metadata": {},
   "source": [
    "### Improved source for VGG-Face\n",
    "After muching around with VGG-Face trying to get it to work I think I found a better source for a Keras-based VGG-Face model ready for fine tuning here - https://github.com/rcmalli/keras-vggface"
   ]
  },
  {
   "cell_type": "code",
   "execution_count": null,
   "metadata": {
    "collapsed": true
   },
   "outputs": [],
   "source": []
  }
 ],
 "metadata": {
  "kernelspec": {
   "display_name": "Python 2",
   "language": "python",
   "name": "python2"
  },
  "language_info": {
   "codemirror_mode": {
    "name": "ipython",
    "version": 2
   },
   "file_extension": ".py",
   "mimetype": "text/x-python",
   "name": "python",
   "nbconvert_exporter": "python",
   "pygments_lexer": "ipython2",
   "version": "2.7.10"
  }
 },
 "nbformat": 4,
 "nbformat_minor": 0
}
