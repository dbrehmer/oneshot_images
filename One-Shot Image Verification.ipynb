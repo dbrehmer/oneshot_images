{
 "cells": [
  {
   "cell_type": "markdown",
   "metadata": {},
   "source": [
    "## One-Shot Image Verification using deep learning"
   ]
  },
  {
   "cell_type": "markdown",
   "metadata": {},
   "source": [
    "Since the Olivetti face database is not large enough to do well training the network and the architecture of this network is really optimized for character recognition, it probably makes more sense to use a pretrained face recognition network for encoding the images. The result of this encoding will then be compared between the two and the final stage will be trained to complete the discrimination. Weights for the final layer can be loaded into the complete model after training that layer alone.\n",
    "\n",
    "The best choice for pretrained face recognition networks is probably the VGG-Face network, as described in this paper - http://www.robots.ox.ac.uk/~vgg/publications/2015/Parkhi15/parkhi15.pdf, which has already been converted to Keras here - https://gist.github.com/EncodeTS/6bbe8cb8bebad7a672f0d872561782d9."
   ]
  },
  {
   "cell_type": "markdown",
   "metadata": {},
   "source": [
    "One difficulty may be the differning format between the VGG face dataset and the Olivetti set. To accomodate the different format and grayscale the Olivetti images will be adjusted to match the expected input with a similar placement of the face in the image and the grayscale repeated on all three rbg planes.\n",
    "\n",
    "The VGG-Faces based siamese model will be fine tuned to the first 30 of the Olivetti faces and the remaining 10 will be used to test one-shot accuracy."
   ]
  },
  {
   "cell_type": "markdown",
   "metadata": {},
   "source": [
    "As I was trying to determine the way faces should be framed in the image I found this paper which describes adapting the VGG-Faces model for cross-over learning - http://cs231n.stanford.edu/reports/2016/pdfs/006_Report.pdf\n",
    "\n",
    "It seems that the Olivetti faces are probably reasonably well cropped, so we will only need to change them to RGB format for the input.\n",
    "\n",
    "One thing I did not understand at the outset was that the model does not actually learn anything from the one image. All features need to be encoded in the network to begin with. So it is critically important that a wide range of faces be present in the training data. For this reason the VGG-Face dataset is probably not sufficient for the wider population as it was mostly trained on celebrity faces."
   ]
  },
  {
   "cell_type": "markdown",
   "metadata": {},
   "source": [
    "I was looking for how to merge the results from the branches and found this blog post on how someone implemented the model in the paper - https://sorenbouma.github.io/blog/oneshot/ So, some of the following code is adapted from that."
   ]
  },
  {
   "cell_type": "code",
   "execution_count": 8,
   "metadata": {
    "collapsed": false
   },
   "outputs": [
    {
     "name": "stdout",
     "output_type": "stream",
     "text": [
      "Populating the interactive namespace from numpy and matplotlib\n"
     ]
    }
   ],
   "source": [
    "import numpy as np\n",
    "import matplotlib.pyplot as plt\n",
    "%pylab inline\n",
    "from sklearn.datasets import fetch_olivetti_faces\n",
    "from itertools import combinations\n",
    "from keras.models import Model\n",
    "from keras.layers import Input, Conv2D, ZeroPadding2D, MaxPooling2D, Flatten, Dense, Dropout, Lambda\n",
    "from keras.optimizers import SGD, Adam\n",
    "from keras.losses import binary_crossentropy\n",
    "from keras.initializers import TruncatedNormal\n",
    "from keras.utils.data_utils import get_file\n",
    "from PIL import Image\n",
    "from sklearn.metrics import roc_curve"
   ]
  },
  {
   "cell_type": "markdown",
   "metadata": {},
   "source": [
    "### If we use 75% of the Olivetti Faces data set for training, the number of positive and negative pairs we can get is 9X5X30 = 1350 and 150x290 = 43,500.\n",
    "We will draw evenly and randomly from those sets for training batches and run until we are not seeing much additional improvement.\n",
    "For validation we will have 450 positive cases and 4500 negative cases. The validation data will be used to assess the training of the final layers and to construct the one-shot tests."
   ]
  },
  {
   "cell_type": "markdown",
   "metadata": {
    "collapsed": true
   },
   "source": [
    "Seems that for training the final layer it may be faster to precompute the output of the VGG-Face branches for all the images and train the final layer on its own. I will see if I can figure out how to do that once I have things set up.\n",
    "\n",
    "If the performance is not so good with only the final fully connected layer trained we could also make the second to last layer trainable and include it in the discriminator, with initial wieghts starting where they were for VGG-Face.\n",
    "\n",
    "To multiply the amount of data we have we might also just do some transformations on the image vectors for training the final layer rather than on the original images. Perhaps a dropout of 10% of the components. If we were to start from the original images we could add noise or perform affine distortions that approximate changes in the angle of the photo or lighting without creating abnormal facial shapes."
   ]
  },
  {
   "cell_type": "markdown",
   "metadata": {},
   "source": [
    "### Improved source for VGG-Face\n",
    "After mucking around with VGG-Face trying to get it to work I think I found a better source for a Keras-based VGG-Face model ready for fine tuning here - https://github.com/rcmalli/keras-vggface. It has the weights in TensorFlow format."
   ]
  },
  {
   "cell_type": "markdown",
   "metadata": {},
   "source": [
    "### AWS\n",
    "Although it was not really necessary due to the small amount of data and single training layer, training was performed on an AWS p2 instance. If we had progressed to training more of the fully connected layers it may have been a help to have the GPU machine."
   ]
  },
  {
   "cell_type": "code",
   "execution_count": 47,
   "metadata": {
    "collapsed": true
   },
   "outputs": [],
   "source": [
    "WEIGHTS_PATH = 'https://github.com/rcmalli/keras-vggface/releases/download/v2.0/rcmalli_vggface_tf_v2.h5'\n",
    "\n",
    "class Siamese_Face_Tester(object):\n",
    "    \"\"\"Loads Olivetti Face data and generates sets for training and testing one-shot learning on Siamese Network.\"\"\"\n",
    "    def __init__(self):\n",
    "        self.train, self.test = self.new_train_test_split()\n",
    "        # Pairs of indices for images of the same subject.\n",
    "        self.test_pairs_pos, self.train_pairs_pos = self.get_pos_pairs()\n",
    "        # Train and test sets for training the discriminator.\n",
    "        self.train_pairs = []\n",
    "        self.train_target = []\n",
    "        self.test_pairs = []\n",
    "        self.test_target = []\n",
    "        self.refresh_train_sets()\n",
    "        # Fetch and convert Olivetti Face data.\n",
    "        self.data = fetch_olivetti_faces()\n",
    "        self.images = np.zeros((400, 224, 224, 3))\n",
    "        for i in range(400):\n",
    "            self.images[i, :, :, :] = self.convert_image(self.data.images[i])\n",
    "        self.image_vectors = None\n",
    "        self.branch_encoder = None\n",
    "        self.weights_path = None\n",
    "        self.discriminator = self.get_discriminator()\n",
    "\n",
    "\n",
    "    def convert_image(self, img):\n",
    "        \"\"\"Convert gray scale image to color in [h, w, channels] format.\"\"\"\n",
    "        new_image = Image.fromarray(img).resize((224, 224))\n",
    "        img = np.asarray(new_image)\n",
    "        color_image = np.array([img, img, img])\n",
    "        return transpose(color_image, (1, 2, 0))\n",
    "\n",
    "\n",
    "    def new_train_test_split(self):\n",
    "        \"\"\"Olivetti Faces includes 40 sets of 10 images. This returns a 75/25 random split of 40 indices.\"\"\"\n",
    "        # Randomly choose 75% of the indices for the Olivetti subjects for the training set.\n",
    "        train = np.random.choice(range(40), 30, replace=False)\n",
    "        # Take the remaining 25% for the test set.\n",
    "        test = np.array([idx for idx in range(40) if idx not in train])\n",
    "        return train, test\n",
    "\n",
    "\n",
    "    def get_pos_pairs(self):\n",
    "        \"\"\"Returns all possible positive pairs for the current train-test split.\"\"\"\n",
    "        test_pairs_pos = np.concatenate([np.array(list(combinations(range(10), 2)))+idx*10 for idx in self.test])\n",
    "        train_pairs_pos = np.concatenate([np.array(list(combinations(range(10), 2)))+idx*10 for idx in self.train])\n",
    "        return test_pairs_pos, train_pairs_pos\n",
    "\n",
    "\n",
    "    def refresh_train_sets(self, batch_size=32):\n",
    "        \"\"\"Refreshes the train and test sets of index pairs and targets with a new random draw of negative pairs.\"\"\"\n",
    "        # Make the train set an integer multiple of the batch size (not sure if this matters...)\n",
    "        drop = len(self.train_pairs_pos)%batch_size\n",
    "        train_pairs = np.concatenate((self.train_pairs_pos[:-drop], self.draw_random_neg_pairs(self.train, len(self.train_pairs_pos)-drop)))\n",
    "        train_targets = np.concatenate((np.ones(len(train_pairs)/2), np.zeros(len(train_pairs)/2)))\n",
    "        train_labeled = np.hstack([train_pairs, np.array([train_targets]).T])\n",
    "        np.random.shuffle(train_labeled)\n",
    "        self.train_pairs = train_labeled[:, :2]\n",
    "        self.train_target = train_labeled[:, 2]\n",
    "        # Repeat same procedure for the test set. Clearly could be refactored in some way, but no time now.\n",
    "        drop = len(self.test_pairs_pos)%batch_size\n",
    "        test_pairs = np.concatenate((self.test_pairs_pos[:-drop], self.draw_random_neg_pairs(self.test, len(self.test_pairs_pos)-drop)))\n",
    "        test_targets = np.concatenate((np.ones(len(test_pairs)/2), np.zeros(len(test_pairs)/2)))\n",
    "        test_labeled = np.hstack([test_pairs, np.array([test_targets]).T])\n",
    "        np.random.shuffle(test_labeled)\n",
    "        self.test_pairs = test_labeled[:, :2]\n",
    "        self.test_target = test_labeled[:, 2]\n",
    "        \n",
    "\n",
    "    def random_neg_pair(self, subject_indices):\n",
    "        \"\"\"Takes an array of subject indices and returns a pair of indices to non-matching image vectors.\"\"\"\n",
    "        subject = random.choice(subject_indices)\n",
    "        ind1 = 10*subject + random.choice(range(10))\n",
    "        others = subject_indices.tolist()\n",
    "        others.remove(subject)\n",
    "        ind2 = 10*random.choice(others) + random.choice(range(10))\n",
    "        return [ind1, ind2]\n",
    "\n",
    "\n",
    "    def draw_random_neg_pairs(self, subject_indices, number):\n",
    "        \"\"\"Returns a set of number unique negative pairs\"\"\"\n",
    "        pairs = []\n",
    "        while (len(pairs) < number):\n",
    "            pair = set(self.random_neg_pair(subject_indices))\n",
    "            if pair not in pairs:\n",
    "                pairs.append(pair)\n",
    "        return np.array([list(s) for s in pairs])\n",
    "\n",
    "\n",
    "    def vgg_face(self, weights_path=None):\n",
    "        \"\"\"The VGGFace network.\"\"\"\n",
    "        img = Input(shape=(224, 224, 3))\n",
    "\n",
    "        conv1_1 = Conv2D(64, (3, 3), activation='relu', padding='same', name='conv1_1', trainable=False)(img)\n",
    "        conv1_2 = Conv2D(64, (3, 3), activation='relu', padding='same', name='conv1_2', trainable=False)(conv1_1)\n",
    "        pool1 = MaxPooling2D((2, 2), strides=(2, 2), name='pool1', trainable=False)(conv1_2)\n",
    "\n",
    "        conv2_1 = Conv2D(128, (3, 3), activation='relu', padding='same', name='conv2_1', trainable=False)(pool1)\n",
    "        conv2_2 = Conv2D(128, (3, 3), activation='relu', padding='same', name='conv2_2', trainable=False)(conv2_1)\n",
    "        pool2 = MaxPooling2D((2, 2), strides=(2, 2), name='pool2', trainable=False)(conv2_2)\n",
    "\n",
    "        conv3_1 = Conv2D(256, (3, 3), activation='relu', padding='same', name='conv3_1', trainable=False)(pool2)\n",
    "        conv3_2 = Conv2D(256, (3, 3), activation='relu', padding='same', name='conv3_2', trainable=False)(conv3_1)\n",
    "        conv3_3 = Conv2D(256, (3, 3), activation='relu', padding='same', name='conv3_3', trainable=False)(conv3_2)\n",
    "        pool3 = MaxPooling2D((2, 2), strides=(2, 2), name='pool3', trainable=False)(conv3_3)\n",
    "\n",
    "        conv4_1 = Conv2D(512, (3, 3), activation='relu', padding='same', name='conv4_1', trainable=False)(pool3)\n",
    "        conv4_2 = Conv2D(512, (3, 3), activation='relu', padding='same', name='conv4_2', trainable=False)(conv4_1)\n",
    "        conv4_3 = Conv2D(512, (3, 3), activation='relu', padding='same', name='conv4_3', trainable=False)(conv4_2)\n",
    "        pool4 = MaxPooling2D((2, 2), strides=(2, 2), name='pool4', trainable=False)(conv4_3)\n",
    "\n",
    "        conv5_1 = Conv2D(512, (3, 3), activation='relu', padding='same', name='conv5_1', trainable=False)(pool4)\n",
    "        conv5_2 = Conv2D(512, (3, 3), activation='relu', padding='same', name='conv5_2', trainable=False)(conv5_1)\n",
    "        conv5_3 = Conv2D(512, (3, 3), activation='relu', padding='same', name='conv5_3', trainable=False)(conv5_2)\n",
    "        pool5 = MaxPooling2D((2, 2), strides=(2, 2), name='pool5', trainable=False)(conv5_3)\n",
    "\n",
    "        flat = Flatten()(pool5)\n",
    "        fc6 = Dense(4096, activation='relu', name='fc6', trainable=False)(flat)\n",
    "        fc7 = Dense(4096, activation='relu', name='fc7', trainable=False)(fc6)\n",
    "        out = Dense(2622, activation='softmax', name='fc8')(fc7)\n",
    "\n",
    "        model = Model(inputs=img, outputs=out)\n",
    "\n",
    "        if weights_path:\n",
    "            model.load_weights(weights_path)\n",
    "\n",
    "        return model\n",
    "\n",
    "\n",
    "    def get_branch_model(self):\n",
    "        \"\"\"Returns a model that can be used to encode images into vectors using the trained VGG-Face model.\"\"\"\n",
    "        if self.branch_encoder == None:\n",
    "            # Set up VGGFace network and load weights.\n",
    "            if self.weights_path == None:\n",
    "                self.get_VGG_weights()\n",
    "            encode_image = self.vgg_face(self.weights_path)\n",
    "\n",
    "            # Strip off the final layer used for prediction, leaving the image feature vector.\n",
    "            # Unfortunately, popping off layers still does not work correctly. After popping\n",
    "            # you still need to reassign the output of the model to the final layer or it will\n",
    "            # still be trying to look at the old final layer. See here - https://github.com/fchollet/keras/issues/2371\n",
    "            encode_image.layers.pop()\n",
    "            encode_image.outputs = [encode_image.layers[-1].output]\n",
    "            encode_image.layers[-1].outbound_nodes = []\n",
    "            self.branch_encoder = encode_image\n",
    "        return self.branch_encoder\n",
    "    \n",
    "    \n",
    "    def encode_image_vectors(self):\n",
    "        \"\"\"Uses the image encoding branch to turn the Olivetti images into vectors.\"\"\"\n",
    "        encoder = self.get_branch_model()\n",
    "        vectors = encoder.predict(self.images[:16], batch_size = 16)\n",
    "        for i in range(24):\n",
    "            vectors = np.concatenate((vectors, encoder.predict(self.images[16*(i+1):16*(i+2)], batch_size = 16)))\n",
    "        return vectors\n",
    "\n",
    "\n",
    "    def get_image_vectors(self):\n",
    "        \"\"\"Returns the image vectors, computing them if necessary.\"\"\"\n",
    "        if self.image_vectors == None:\n",
    "            self.image_vectors = self.encode_image_vectors()\n",
    "        return self.image_vectors\n",
    "    \n",
    "    \n",
    "    def get_VGG_weights(self):\n",
    "        \"\"\"Download VGGFace weights if they are not present.\"\"\"\n",
    "        self.weights_path = get_file('rcmalli_vggface_tf_v2.h5',\n",
    "                                     WEIGHTS_PATH,\n",
    "                                     cache_subdir='models')\n",
    "        \n",
    "        \n",
    "    def get_discriminator(self):\n",
    "        \"\"\"The discriminator is the part of the siamese network that we will train to tell the difference between encoded image vectors.\"\"\"\n",
    "        discrim_input = Input(shape=(2, 4096))\n",
    "        # Merge two encoded inputs with the L1 distance between them.\n",
    "        both = Lambda(lambda x: np.abs(x[:,0]-x[:,1]), output_shape=(4096,))(discrim_input)\n",
    "        # Make the final prediction layer as described in the paper. This is the only layer we will train to begin with.\n",
    "        # We can unfreeze additional fc layers and train them if it seems to be needed.\n",
    "        prediction = Dense(1, activation='sigmoid', bias_initializer=TruncatedNormal(mean=0.5, stddev=0.01))(both)\n",
    "        discriminator = Model(inputs=discrim_input, outputs=prediction)\n",
    "        return discriminator\n",
    "    \n",
    "    \n",
    "    def get_oneshot_set(self, N):\n",
    "        \"\"\"Return a set of N pairs, one of which has two images of the same face.\"\"\"\n",
    "        pairs = [10*np.random.choice(self.test) + np.random.choice(range(10), 2, replace=False)]\n",
    "        pairs.extend(self.draw_random_neg_pairs(self.test, N-1))\n",
    "        targets = np.zeros((N,))\n",
    "        targets[0] = 1\n",
    "        return [[np.array(self.image_vectors[int(pair[0])]),\n",
    "                 np.array(self.image_vectors[int(pair[1])])] for pair in pairs], targets\n",
    "    \n",
    "    \n",
    "    def test_oneshot(self, N, k, model=None, verbose=0):\n",
    "        \"\"\"Test average N way oneshot learning accuracy of a siamese neural net over k one-shot tasks.\n",
    "        \n",
    "        Thanks here to Soren Bouma for a helpful function! - https://sorenbouma.github.io/blog/oneshot/ \n",
    "        \"\"\"\n",
    "        if model == None:\n",
    "            model = self.discriminator\n",
    "        n_correct = 0\n",
    "        if verbose:\n",
    "            print(\"Evaluating model on {} unique {} way one-shot learning tasks ...\".format(k, N))\n",
    "        for i in range(k):\n",
    "            inputs, targets = self.get_oneshot_set(N)\n",
    "            probs = model.predict(inputs)\n",
    "            if np.argmax(probs) == 0:\n",
    "                n_correct+=1\n",
    "        percent_correct = (100.0*n_correct / k)\n",
    "        if verbose:\n",
    "            print(\"Got an average of {}% {} way one-shot learning accuracy\".format(percent_correct, N))\n",
    "        return percent_correct"
   ]
  },
  {
   "cell_type": "code",
   "execution_count": 48,
   "metadata": {
    "collapsed": true
   },
   "outputs": [],
   "source": [
    "tester = Siamese_Face_Tester()\n",
    "vectors = tester.get_image_vectors()\n",
    "tester.discriminator.compile(loss=\"binary_crossentropy\", optimizer=Adam())\n",
    "X_train = [[np.array(vectors[int(pair[0])]), np.array(vectors[int(pair[1])])] for pair in tester.train_pairs]\n",
    "X_test = [[np.array(vectors[int(pair[0])]), np.array(vectors[int(pair[1])])] for pair in tester.test_pairs]"
   ]
  },
  {
   "cell_type": "code",
   "execution_count": 49,
   "metadata": {
    "collapsed": true
   },
   "outputs": [
    {
     "name": "stdout",
     "output_type": "stream",
     "text": [
      "Train on 2688 samples, validate on 896 samples\n",
      "Epoch 1/40\n",
      "2688/2688 [==============================] - 0s - loss: 0.6340 - val_loss: 0.6043\n",
      "Epoch 2/40\n",
      "2688/2688 [==============================] - 0s - loss: 0.5681 - val_loss: 0.5848\n",
      "Epoch 3/40\n",
      "2688/2688 [==============================] - 0s - loss: 0.5451 - val_loss: 0.5754\n",
      "Epoch 4/40\n",
      "2688/2688 [==============================] - 0s - loss: 0.5250 - val_loss: 0.5687\n",
      "Epoch 5/40\n",
      "2688/2688 [==============================] - 0s - loss: 0.5061 - val_loss: 0.5621\n",
      "Epoch 6/40\n",
      "2688/2688 [==============================] - 0s - loss: 0.4882 - val_loss: 0.5591\n",
      "Epoch 7/40\n",
      "2688/2688 [==============================] - 0s - loss: 0.4712 - val_loss: 0.5547\n",
      "Epoch 8/40\n",
      "2688/2688 [==============================] - 0s - loss: 0.4550 - val_loss: 0.5513\n",
      "Epoch 9/40\n",
      "2688/2688 [==============================] - 0s - loss: 0.4397 - val_loss: 0.5490\n",
      "Epoch 10/40\n",
      "2688/2688 [==============================] - 0s - loss: 0.4249 - val_loss: 0.5471\n",
      "Epoch 11/40\n",
      "2688/2688 [==============================] - 0s - loss: 0.4109 - val_loss: 0.5449\n",
      "Epoch 12/40\n",
      "2688/2688 [==============================] - 0s - loss: 0.3974 - val_loss: 0.5442\n",
      "Epoch 13/40\n",
      "2688/2688 [==============================] - 0s - loss: 0.3846 - val_loss: 0.5437\n",
      "Epoch 14/40\n",
      "2688/2688 [==============================] - 0s - loss: 0.3724 - val_loss: 0.5431\n",
      "Epoch 15/40\n",
      "2688/2688 [==============================] - 0s - loss: 0.3608 - val_loss: 0.5433\n",
      "Epoch 16/40\n",
      "2688/2688 [==============================] - 0s - loss: 0.3495 - val_loss: 0.5385\n",
      "Epoch 17/40\n",
      "2688/2688 [==============================] - 0s - loss: 0.3387 - val_loss: 0.5451\n",
      "Epoch 18/40\n",
      "2688/2688 [==============================] - 0s - loss: 0.3284 - val_loss: 0.5448\n",
      "Epoch 19/40\n",
      "2688/2688 [==============================] - 0s - loss: 0.3186 - val_loss: 0.5453\n",
      "Epoch 20/40\n",
      "2688/2688 [==============================] - 0s - loss: 0.3091 - val_loss: 0.5486\n",
      "Epoch 21/40\n",
      "2688/2688 [==============================] - 0s - loss: 0.3001 - val_loss: 0.5473\n",
      "Epoch 22/40\n",
      "2688/2688 [==============================] - 0s - loss: 0.2913 - val_loss: 0.5523\n",
      "Epoch 23/40\n",
      "2688/2688 [==============================] - 0s - loss: 0.2829 - val_loss: 0.5526\n",
      "Epoch 24/40\n",
      "2688/2688 [==============================] - 0s - loss: 0.2749 - val_loss: 0.5521\n",
      "Epoch 25/40\n",
      "2688/2688 [==============================] - 0s - loss: 0.2671 - val_loss: 0.5502\n",
      "Epoch 26/40\n",
      "2688/2688 [==============================] - 0s - loss: 0.2597 - val_loss: 0.5529\n",
      "Epoch 27/40\n",
      "2688/2688 [==============================] - 0s - loss: 0.2524 - val_loss: 0.5596\n",
      "Epoch 28/40\n",
      "2688/2688 [==============================] - 0s - loss: 0.2455 - val_loss: 0.5618\n",
      "Epoch 29/40\n",
      "2688/2688 [==============================] - 0s - loss: 0.2388 - val_loss: 0.5633\n",
      "Epoch 30/40\n",
      "2688/2688 [==============================] - 0s - loss: 0.2325 - val_loss: 0.5675\n",
      "Epoch 31/40\n",
      "2688/2688 [==============================] - 0s - loss: 0.2263 - val_loss: 0.5695\n",
      "Epoch 32/40\n",
      "2688/2688 [==============================] - 0s - loss: 0.2204 - val_loss: 0.5713\n",
      "Epoch 33/40\n",
      "2688/2688 [==============================] - 0s - loss: 0.2146 - val_loss: 0.5802\n",
      "Epoch 34/40\n",
      "2688/2688 [==============================] - 0s - loss: 0.2090 - val_loss: 0.5736\n",
      "Epoch 35/40\n",
      "2688/2688 [==============================] - 0s - loss: 0.2037 - val_loss: 0.5774\n",
      "Epoch 36/40\n",
      "2688/2688 [==============================] - 0s - loss: 0.1985 - val_loss: 0.5805\n",
      "Epoch 37/40\n",
      "2688/2688 [==============================] - 0s - loss: 0.1934 - val_loss: 0.5846\n",
      "Epoch 38/40\n",
      "2688/2688 [==============================] - 0s - loss: 0.1886 - val_loss: 0.5857\n",
      "Epoch 39/40\n",
      "2688/2688 [==============================] - 0s - loss: 0.1839 - val_loss: 0.5916\n",
      "Epoch 40/40\n",
      "2688/2688 [==============================] - 0s - loss: 0.1794 - val_loss: 0.5878\n"
     ]
    },
    {
     "data": {
      "text/plain": [
       "<keras.callbacks.History at 0x7f686d4caf10>"
      ]
     },
     "execution_count": 49,
     "metadata": {},
     "output_type": "execute_result"
    }
   ],
   "source": [
    "tester.discriminator.fit(x=X_train, y=tester.train_target, epochs=40, validation_data=(X_test, tester.test_target))"
   ]
  },
  {
   "cell_type": "code",
   "execution_count": 50,
   "metadata": {
    "collapsed": true
   },
   "outputs": [],
   "source": [
    "y_pred = tester.discriminator.predict(X_test)"
   ]
  },
  {
   "cell_type": "code",
   "execution_count": 51,
   "metadata": {
    "collapsed": true
   },
   "outputs": [],
   "source": [
    "fpr, tpr, thresholds = roc_curve(tester.test_target, y_pred)"
   ]
  },
  {
   "cell_type": "code",
   "execution_count": 45,
   "metadata": {
    "collapsed": false
   },
   "outputs": [
    {
     "data": {
      "image/png": "[encoded data removed]",
      "text/plain": [
       "<matplotlib.figure.Figure at 0x7f6870229810>"
      ]
     },
     "metadata": {},
     "output_type": "display_data"
    }
   ],
   "source": [
    "plt.plot(fpr, tpr)\n",
    "plt.show()"
   ]
  },
  {
   "cell_type": "markdown",
   "metadata": {},
   "source": [
    "## ROC Curve\n",
    "Not too bad for only 40 Epochs of training on the final layer. This is an indication of performance for a 1 of 2 one-shot learning task. So not really very good, but let's go on to check the one-shot performance for larger sets."
   ]
  },
  {
   "cell_type": "code",
   "execution_count": 66,
   "metadata": {
    "collapsed": false
   },
   "outputs": [
    {
     "data": {
      "text/plain": [
       "82.0"
      ]
     },
     "execution_count": 66,
     "metadata": {},
     "output_type": "execute_result"
    }
   ],
   "source": [
    "tester.test_oneshot(5, 50)"
   ]
  },
  {
   "cell_type": "code",
   "execution_count": 57,
   "metadata": {
    "collapsed": true,
    "scrolled": true
   },
   "outputs": [],
   "source": [
    "# Plot percent correct versus number in one-shot task set. We take an average over 1000 trials\n",
    "# of the one-shot task for set sizes from 2 - 21.\n",
    "accuracy = []\n",
    "for i in range(20):\n",
    "    accuracy.append(tester.test_oneshot(i+2, 1000))\n",
    "x = np.array(range(20)) + 2"
   ]
  },
  {
   "cell_type": "code",
   "execution_count": 64,
   "metadata": {
    "collapsed": false
   },
   "outputs": [
    {
     "data": {
      "image/png": "[encoded data removed]",
      "text/plain": [
       "<matplotlib.figure.Figure at 0x7f686cba6050>"
      ]
     },
     "metadata": {},
     "output_type": "display_data"
    }
   ],
   "source": [
    "import seaborn as sns\n",
    "\n",
    "plt.figure(figsize=(12,10))\n",
    "plt.plot(x, accuracy)\n",
    "plt.title('One-Shot Task Accuracy vs. Number in Set', fontsize = 28)\n",
    "plt.xlabel('Number of Pairs in One-Shot Task', fontsize = 24)\n",
    "plt.ylabel('Accuracy (%)', fontsize = 24)\n",
    "plt.xticks(fontsize = 18)\n",
    "plt.yticks(fontsize = 18)\n",
    "plt.xlim([0, 22])\n",
    "plt.ylim([0, 100])\n",
    "plt.show()"
   ]
  },
  {
   "cell_type": "markdown",
   "metadata": {},
   "source": [
    "## So, accuracy drops off pretty quickly"
   ]
  },
  {
   "cell_type": "markdown",
   "metadata": {},
   "source": [
    "# Summary Notes:\n",
    "## What an awesome experience this was\n",
    "* This is actually the first time I have really done a deep learning project on my own. It was at a perfect level for me to get into it. Previously I have only run things with a lot of hand holding.\n",
    "* I loved the discovery of how easy it is to do transfer learning.\n",
    "* I did not have time to go back and create the full model that would take two images to compare, but it would not be difficult to save the trained weights from the discriminator and load them into the combined model.\n",
    "* Running the calculation of the image vectors actually took quite a while so it would have been a real waste of time to train on the complete network.\n",
    "\n",
    "## Steps for improvement\n",
    "* First step would probably be to come up with some ways to augment the training data. The Olivetti set is just so small.\n",
    "    * Some of those might be to add noise to the images.\n",
    "    * Add a constant offset for all values.\n",
    "    * Small affine distortions that do not result in unnatural faces, but look more like side, top or bottom views.\n",
    "    * Find more face data. Seems like many likely candidates here - http://www.face-rec.org/databases/\n",
    "* Additional performance could be achieved by training the second to last fully connected layer from the VGGFace model."
   ]
  },
  {
   "cell_type": "code",
   "execution_count": null,
   "metadata": {
    "collapsed": true
   },
   "outputs": [],
   "source": []
  }
 ],
 "metadata": {
  "kernelspec": {
   "display_name": "Python 2",
   "language": "python",
   "name": "python2"
  },
  "language_info": {
   "codemirror_mode": {
    "name": "ipython",
    "version": 2
   },
   "file_extension": ".py",
   "mimetype": "text/x-python",
   "name": "python",
   "nbconvert_exporter": "python",
   "pygments_lexer": "ipython2",
   "version": "2.7.10"
  }
 },
 "nbformat": 4,
 "nbformat_minor": 1
}
